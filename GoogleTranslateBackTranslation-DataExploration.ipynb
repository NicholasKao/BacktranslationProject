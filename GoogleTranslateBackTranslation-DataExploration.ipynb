{
 "cells": [
  {
   "cell_type": "code",
   "execution_count": 22,
   "id": "97c41f4d",
   "metadata": {},
   "outputs": [],
   "source": [
    "from googletrans import Translator #pip install -U deep_translator\n",
    "import pandas as pd\n",
    "import numpy as np\n",
    "import Levenshtein\n",
    "import matplotlib.pyplot as plt\n",
    "import seaborn as sns\n",
    "from deep_translator import GoogleTranslator\n",
    "import textstat #https://pypi.org/project/textstat/"
   ]
  },
  {
   "cell_type": "code",
   "execution_count": 2,
   "id": "b3d5bcd6",
   "metadata": {},
   "outputs": [
    {
     "name": "stdout",
     "output_type": "stream",
     "text": [
      "en-es-sorted-en.txt     en-es.tmx               en-fr-sorted-pairs.txt\r\n",
      "en-es-sorted-es.txt     en-fr-sorted-en.txt     en-fr.tmx\r\n",
      "en-es-sorted-pairs.txt  en-fr-sorted-fr.txt\r\n"
     ]
    }
   ],
   "source": [
    "ls data"
   ]
  },
  {
   "cell_type": "code",
   "execution_count": 3,
   "id": "6f6eb32c",
   "metadata": {},
   "outputs": [],
   "source": [
    "with open('data/en-es-sorted-en.txt') as f:\n",
    "    lines = f.readlines()"
   ]
  },
  {
   "cell_type": "code",
   "execution_count": 4,
   "id": "0f9b75e9",
   "metadata": {},
   "outputs": [],
   "source": [
    "en = pd.DataFrame(data = {'Phrase':lines})"
   ]
  },
  {
   "cell_type": "code",
   "execution_count": 17,
   "id": "d43624a1",
   "metadata": {},
   "outputs": [
    {
     "data": {
      "text/plain": [
       "1714910"
      ]
     },
     "execution_count": 17,
     "metadata": {},
     "output_type": "execute_result"
    }
   ],
   "source": [
    "len(en)"
   ]
  },
  {
   "cell_type": "code",
   "execution_count": 5,
   "id": "c51658be",
   "metadata": {},
   "outputs": [],
   "source": [
    "en['Phrase'] = en['Phrase'].str[:-1]"
   ]
  },
  {
   "cell_type": "code",
   "execution_count": 6,
   "id": "26c99372",
   "metadata": {},
   "outputs": [],
   "source": [
    "en['PhraseLength'] = en.apply(lambda row: len(row['Phrase']), axis = 1)"
   ]
  },
  {
   "cell_type": "code",
   "execution_count": 7,
   "id": "ae64b6c3",
   "metadata": {},
   "outputs": [],
   "source": [
    "def word_count(row):\n",
    "    return(len(row['Phrase'].split()))"
   ]
  },
  {
   "cell_type": "code",
   "execution_count": 8,
   "id": "993c9be5",
   "metadata": {},
   "outputs": [],
   "source": [
    "en['WordCount'] = en.apply(lambda row: word_count(row), axis = 1)"
   ]
  },
  {
   "cell_type": "code",
   "execution_count": 9,
   "id": "eef722f9",
   "metadata": {},
   "outputs": [],
   "source": [
    "en_sub = en[(en['WordCount'] >= 3) & (en['WordCount'] <= 20)]"
   ]
  },
  {
   "cell_type": "code",
   "execution_count": 10,
   "id": "7c6bab77",
   "metadata": {},
   "outputs": [],
   "source": [
    "def alphanumeric_percent(row):\n",
    "    letters = len([x for x in row['Phrase'] if x.isalpha()])\n",
    "    return(letters/len(row['Phrase'].replace(' ','')))"
   ]
  },
  {
   "cell_type": "code",
   "execution_count": 11,
   "id": "ba4d0340",
   "metadata": {},
   "outputs": [
    {
     "name": "stderr",
     "output_type": "stream",
     "text": [
      "/Users/nicholas/anaconda/envs/Backtranslation/lib/python3.6/site-packages/ipykernel_launcher.py:1: SettingWithCopyWarning: \n",
      "A value is trying to be set on a copy of a slice from a DataFrame.\n",
      "Try using .loc[row_indexer,col_indexer] = value instead\n",
      "\n",
      "See the caveats in the documentation: https://pandas.pydata.org/pandas-docs/stable/user_guide/indexing.html#returning-a-view-versus-a-copy\n",
      "  \"\"\"Entry point for launching an IPython kernel.\n"
     ]
    }
   ],
   "source": [
    "en_sub['AlphaNumeric%'] = en_sub.apply(lambda row: alphanumeric_percent(row), axis = 1)"
   ]
  },
  {
   "cell_type": "code",
   "execution_count": 12,
   "id": "433cb169",
   "metadata": {},
   "outputs": [],
   "source": [
    "sub2 = en_sub[en_sub['AlphaNumeric%'] > 0.975]"
   ]
  },
  {
   "cell_type": "code",
   "execution_count": 14,
   "id": "99c03b1d",
   "metadata": {},
   "outputs": [],
   "source": [
    "sub3 = sub2.iloc[:10000]"
   ]
  },
  {
   "cell_type": "code",
   "execution_count": 18,
   "id": "9c750cee",
   "metadata": {},
   "outputs": [
    {
     "name": "stderr",
     "output_type": "stream",
     "text": [
      "/Users/nicholas/anaconda/envs/Backtranslation/lib/python3.6/site-packages/ipykernel_launcher.py:1: SettingWithCopyWarning: \n",
      "A value is trying to be set on a copy of a slice from a DataFrame.\n",
      "Try using .loc[row_indexer,col_indexer] = value instead\n",
      "\n",
      "See the caveats in the documentation: https://pandas.pydata.org/pandas-docs/stable/user_guide/indexing.html#returning-a-view-versus-a-copy\n",
      "  \"\"\"Entry point for launching an IPython kernel.\n",
      "/Users/nicholas/anaconda/envs/Backtranslation/lib/python3.6/site-packages/ipykernel_launcher.py:4: SettingWithCopyWarning: \n",
      "A value is trying to be set on a copy of a slice from a DataFrame.\n",
      "Try using .loc[row_indexer,col_indexer] = value instead\n",
      "\n",
      "See the caveats in the documentation: https://pandas.pydata.org/pandas-docs/stable/user_guide/indexing.html#returning-a-view-versus-a-copy\n",
      "  after removing the cwd from sys.path.\n"
     ]
    }
   ],
   "source": [
    "sub3['Readability'] = sub3.apply(lambda row: textstat.flesch_reading_ease(row['Phrase']), axis = 1)\n",
    "#The table is an example of values. While the maximum score is 121.22, there is no limit on how low\n",
    "#the score can be. A negative score is valid. Higher score = easier to read\n",
    "sub3['GradeLevel'] = sub3.apply(lambda row: textstat.flesch_kincaid_grade(row['Phrase']), axis = 1)\n",
    "#Returns the Flesch-Kincaid Grade of the given text. This is a grade formula in that a score of 9.3\n",
    "#means that a ninth grader would be able to read the document."
   ]
  },
  {
   "cell_type": "code",
   "execution_count": 19,
   "id": "2f576681",
   "metadata": {},
   "outputs": [
    {
     "data": {
      "text/html": [
       "<div>\n",
       "<style scoped>\n",
       "    .dataframe tbody tr th:only-of-type {\n",
       "        vertical-align: middle;\n",
       "    }\n",
       "\n",
       "    .dataframe tbody tr th {\n",
       "        vertical-align: top;\n",
       "    }\n",
       "\n",
       "    .dataframe thead th {\n",
       "        text-align: right;\n",
       "    }\n",
       "</style>\n",
       "<table border=\"1\" class=\"dataframe\">\n",
       "  <thead>\n",
       "    <tr style=\"text-align: right;\">\n",
       "      <th></th>\n",
       "      <th>PhraseLength</th>\n",
       "      <th>WordCount</th>\n",
       "      <th>AlphaNumeric%</th>\n",
       "      <th>Readability</th>\n",
       "      <th>GradeLevel</th>\n",
       "    </tr>\n",
       "  </thead>\n",
       "  <tbody>\n",
       "    <tr>\n",
       "      <th>count</th>\n",
       "      <td>10000.000000</td>\n",
       "      <td>10000.000000</td>\n",
       "      <td>10000.000000</td>\n",
       "      <td>10000.000000</td>\n",
       "      <td>10000.000000</td>\n",
       "    </tr>\n",
       "    <tr>\n",
       "      <th>mean</th>\n",
       "      <td>49.691300</td>\n",
       "      <td>8.374000</td>\n",
       "      <td>0.976599</td>\n",
       "      <td>64.735266</td>\n",
       "      <td>6.316520</td>\n",
       "    </tr>\n",
       "    <tr>\n",
       "      <th>std</th>\n",
       "      <td>2.559465</td>\n",
       "      <td>1.267077</td>\n",
       "      <td>0.002136</td>\n",
       "      <td>25.880458</td>\n",
       "      <td>3.399286</td>\n",
       "    </tr>\n",
       "    <tr>\n",
       "      <th>min</th>\n",
       "      <td>13.000000</td>\n",
       "      <td>3.000000</td>\n",
       "      <td>0.975610</td>\n",
       "      <td>-93.330000</td>\n",
       "      <td>-2.700000</td>\n",
       "    </tr>\n",
       "    <tr>\n",
       "      <th>25%</th>\n",
       "      <td>49.000000</td>\n",
       "      <td>8.000000</td>\n",
       "      <td>0.975610</td>\n",
       "      <td>46.440000</td>\n",
       "      <td>3.700000</td>\n",
       "    </tr>\n",
       "    <tr>\n",
       "      <th>50%</th>\n",
       "      <td>50.000000</td>\n",
       "      <td>8.000000</td>\n",
       "      <td>0.976190</td>\n",
       "      <td>69.790000</td>\n",
       "      <td>6.000000</td>\n",
       "    </tr>\n",
       "    <tr>\n",
       "      <th>75%</th>\n",
       "      <td>51.000000</td>\n",
       "      <td>9.000000</td>\n",
       "      <td>0.976744</td>\n",
       "      <td>85.690000</td>\n",
       "      <td>8.800000</td>\n",
       "    </tr>\n",
       "    <tr>\n",
       "      <th>max</th>\n",
       "      <td>52.000000</td>\n",
       "      <td>12.000000</td>\n",
       "      <td>1.000000</td>\n",
       "      <td>119.190000</td>\n",
       "      <td>27.300000</td>\n",
       "    </tr>\n",
       "  </tbody>\n",
       "</table>\n",
       "</div>"
      ],
      "text/plain": [
       "       PhraseLength     WordCount  AlphaNumeric%   Readability    GradeLevel\n",
       "count  10000.000000  10000.000000   10000.000000  10000.000000  10000.000000\n",
       "mean      49.691300      8.374000       0.976599     64.735266      6.316520\n",
       "std        2.559465      1.267077       0.002136     25.880458      3.399286\n",
       "min       13.000000      3.000000       0.975610    -93.330000     -2.700000\n",
       "25%       49.000000      8.000000       0.975610     46.440000      3.700000\n",
       "50%       50.000000      8.000000       0.976190     69.790000      6.000000\n",
       "75%       51.000000      9.000000       0.976744     85.690000      8.800000\n",
       "max       52.000000     12.000000       1.000000    119.190000     27.300000"
      ]
     },
     "execution_count": 19,
     "metadata": {},
     "output_type": "execute_result"
    }
   ],
   "source": [
    "sub3.describe()"
   ]
  },
  {
   "cell_type": "code",
   "execution_count": 28,
   "id": "c5959522",
   "metadata": {},
   "outputs": [],
   "source": [
    "temp2 = sub3.groupby(['WordCount'], as_index = False).agg({'Phrase':'count', 'PhraseLength':'mean',\n",
    "                                                   'Readability':'mean', 'GradeLevel':'mean'})"
   ]
  },
  {
   "cell_type": "code",
   "execution_count": 24,
   "id": "c505510c",
   "metadata": {},
   "outputs": [],
   "source": [
    "sub3.to_csv('EnglishPhrasesList.csv')"
   ]
  },
  {
   "cell_type": "code",
   "execution_count": 29,
   "id": "e70928d7",
   "metadata": {},
   "outputs": [
    {
     "data": {
      "text/html": [
       "<div>\n",
       "<style scoped>\n",
       "    .dataframe tbody tr th:only-of-type {\n",
       "        vertical-align: middle;\n",
       "    }\n",
       "\n",
       "    .dataframe tbody tr th {\n",
       "        vertical-align: top;\n",
       "    }\n",
       "\n",
       "    .dataframe thead th {\n",
       "        text-align: right;\n",
       "    }\n",
       "</style>\n",
       "<table border=\"1\" class=\"dataframe\">\n",
       "  <thead>\n",
       "    <tr style=\"text-align: right;\">\n",
       "      <th></th>\n",
       "      <th>WordCount</th>\n",
       "      <th>Phrase</th>\n",
       "      <th>PhraseLength</th>\n",
       "      <th>Readability</th>\n",
       "      <th>GradeLevel</th>\n",
       "    </tr>\n",
       "  </thead>\n",
       "  <tbody>\n",
       "    <tr>\n",
       "      <th>0</th>\n",
       "      <td>3</td>\n",
       "      <td>30</td>\n",
       "      <td>20.833333</td>\n",
       "      <td>43.330333</td>\n",
       "      <td>7.943333</td>\n",
       "    </tr>\n",
       "    <tr>\n",
       "      <th>1</th>\n",
       "      <td>4</td>\n",
       "      <td>27</td>\n",
       "      <td>36.185185</td>\n",
       "      <td>25.742593</td>\n",
       "      <td>10.662963</td>\n",
       "    </tr>\n",
       "    <tr>\n",
       "      <th>2</th>\n",
       "      <td>5</td>\n",
       "      <td>110</td>\n",
       "      <td>44.000000</td>\n",
       "      <td>6.568364</td>\n",
       "      <td>13.575455</td>\n",
       "    </tr>\n",
       "    <tr>\n",
       "      <th>3</th>\n",
       "      <td>6</td>\n",
       "      <td>472</td>\n",
       "      <td>47.836864</td>\n",
       "      <td>18.752839</td>\n",
       "      <td>12.149364</td>\n",
       "    </tr>\n",
       "    <tr>\n",
       "      <th>4</th>\n",
       "      <td>7</td>\n",
       "      <td>1592</td>\n",
       "      <td>48.797111</td>\n",
       "      <td>43.844209</td>\n",
       "      <td>8.884108</td>\n",
       "    </tr>\n",
       "    <tr>\n",
       "      <th>5</th>\n",
       "      <td>8</td>\n",
       "      <td>3019</td>\n",
       "      <td>49.656840</td>\n",
       "      <td>61.115260</td>\n",
       "      <td>6.730010</td>\n",
       "    </tr>\n",
       "    <tr>\n",
       "      <th>6</th>\n",
       "      <td>9</td>\n",
       "      <td>2967</td>\n",
       "      <td>50.322548</td>\n",
       "      <td>76.624894</td>\n",
       "      <td>4.810347</td>\n",
       "    </tr>\n",
       "    <tr>\n",
       "      <th>7</th>\n",
       "      <td>10</td>\n",
       "      <td>1475</td>\n",
       "      <td>50.934915</td>\n",
       "      <td>85.187756</td>\n",
       "      <td>3.876136</td>\n",
       "    </tr>\n",
       "    <tr>\n",
       "      <th>8</th>\n",
       "      <td>11</td>\n",
       "      <td>285</td>\n",
       "      <td>51.442105</td>\n",
       "      <td>91.845368</td>\n",
       "      <td>3.184211</td>\n",
       "    </tr>\n",
       "    <tr>\n",
       "      <th>9</th>\n",
       "      <td>12</td>\n",
       "      <td>23</td>\n",
       "      <td>52.000000</td>\n",
       "      <td>100.128696</td>\n",
       "      <td>2.291304</td>\n",
       "    </tr>\n",
       "  </tbody>\n",
       "</table>\n",
       "</div>"
      ],
      "text/plain": [
       "   WordCount  Phrase  PhraseLength  Readability  GradeLevel\n",
       "0          3      30     20.833333    43.330333    7.943333\n",
       "1          4      27     36.185185    25.742593   10.662963\n",
       "2          5     110     44.000000     6.568364   13.575455\n",
       "3          6     472     47.836864    18.752839   12.149364\n",
       "4          7    1592     48.797111    43.844209    8.884108\n",
       "5          8    3019     49.656840    61.115260    6.730010\n",
       "6          9    2967     50.322548    76.624894    4.810347\n",
       "7         10    1475     50.934915    85.187756    3.876136\n",
       "8         11     285     51.442105    91.845368    3.184211\n",
       "9         12      23     52.000000   100.128696    2.291304"
      ]
     },
     "execution_count": 29,
     "metadata": {},
     "output_type": "execute_result"
    }
   ],
   "source": [
    "temp2"
   ]
  },
  {
   "cell_type": "code",
   "execution_count": 45,
   "id": "da6bae60",
   "metadata": {},
   "outputs": [
    {
     "data": {
      "text/plain": [
       "Text(0.5, 1.0, 'Readability and Grade Level By Phrase Word Count')"
      ]
     },
     "execution_count": 45,
     "metadata": {},
     "output_type": "execute_result"
    },
    {
     "data": {
      "image/png": "[encoded data removed]",
      "text/plain": [
       "<Figure size 576x432 with 2 Axes>"
      ]
     },
     "metadata": {
      "needs_background": "light"
     },
     "output_type": "display_data"
    }
   ],
   "source": [
    "fig, ax = plt.subplots(figsize = (8,6))\n",
    "ax2 = ax.twinx()\n",
    "sns.lineplot(data = temp2, x = 'WordCount', y = 'Readability', marker = 'o', ax = ax, color = 'b',\n",
    "             label = 'Readability')\n",
    "sns.lineplot(data = temp2, x = 'WordCount', y = 'GradeLevel', marker = 'o', ax = ax2, color = 'g',\n",
    "             label = 'Grade Level')\n",
    "plt.legend()\n",
    "plt.title('Readability and Grade Level By Phrase Word Count', size = 16)"
   ]
  },
  {
   "cell_type": "code",
   "execution_count": null,
   "id": "22e28728",
   "metadata": {},
   "outputs": [],
   "source": []
  }
 ],
 "metadata": {
  "kernelspec": {
   "display_name": "Python 3",
   "language": "python",
   "name": "python3"
  },
  "language_info": {
   "codemirror_mode": {
    "name": "ipython",
    "version": 3
   },
   "file_extension": ".py",
   "mimetype": "text/x-python",
   "name": "python",
   "nbconvert_exporter": "python",
   "pygments_lexer": "ipython3",
   "version": "3.6.13"
  }
 },
 "nbformat": 4,
 "nbformat_minor": 5
}
