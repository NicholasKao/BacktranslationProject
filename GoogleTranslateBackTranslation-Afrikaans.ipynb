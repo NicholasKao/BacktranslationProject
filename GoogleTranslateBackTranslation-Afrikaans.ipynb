{
 "cells": [
  {
   "cell_type": "code",
   "execution_count": 1,
   "id": "b62a7c25",
   "metadata": {},
   "outputs": [],
   "source": [
    "from googletrans import Translator\n",
    "import pandas as pd\n",
    "import numpy as np\n",
    "import Levenshtein\n",
    "import matplotlib.pyplot as plt\n",
    "import seaborn as sns\n",
    "from deep_translator import GoogleTranslator\n",
    "import textstat\n",
    "\n",
    "#pip install googletrans==3.1.0a0\n",
    "#https://stackoverflow.com/questions/52455774/googletrans-stopped-working-with-error-nonetype-object-has-no-attribute-group"
   ]
  },
  {
   "cell_type": "code",
   "execution_count": 2,
   "id": "2348afb3",
   "metadata": {},
   "outputs": [],
   "source": [
    "def translate(to_translate, src, dest):\n",
    "    return(GoogleTranslator(source=src, target=dest).translate(to_translate))\n",
    "\n",
    "\n",
    "def measure_backtranslation(to_translate, src_language, dest_language):\n",
    "    forward_translation = translate(to_translate, src_language, dest_language)\n",
    "    back_translation = translate(\n",
    "        forward_translation, dest_language, src_language)\n",
    "    distance = Levenshtein.distance(to_translate.lower(), back_translation.lower())\n",
    "    return(to_translate, forward_translation, back_translation, distance)"
   ]
  },
  {
   "cell_type": "code",
   "execution_count": 3,
   "id": "e56c46a7",
   "metadata": {},
   "outputs": [
    {
     "name": "stdout",
     "output_type": "stream",
     "text": [
      "en-es-sorted-en.txt     en-es.tmx               en-fr-sorted-pairs.txt\r\n",
      "en-es-sorted-es.txt     en-fr-sorted-en.txt     en-fr.tmx\r\n",
      "en-es-sorted-pairs.txt  en-fr-sorted-fr.txt\r\n"
     ]
    }
   ],
   "source": [
    "ls data"
   ]
  },
  {
   "cell_type": "code",
   "execution_count": 4,
   "id": "d4ea45cd",
   "metadata": {},
   "outputs": [],
   "source": [
    "## Handling the English Sentences"
   ]
  },
  {
   "cell_type": "code",
   "execution_count": 5,
   "id": "572cee6a",
   "metadata": {},
   "outputs": [],
   "source": [
    "with open('data/en-es-sorted-en.txt') as f:\n",
    "    lines = f.readlines()"
   ]
  },
  {
   "cell_type": "code",
   "execution_count": 6,
   "id": "d897c1ad",
   "metadata": {},
   "outputs": [],
   "source": [
    "en = pd.DataFrame(data = {'Phrase':lines})"
   ]
  },
  {
   "cell_type": "code",
   "execution_count": 7,
   "id": "aa9e3260",
   "metadata": {},
   "outputs": [],
   "source": [
    "en['Phrase'] = en['Phrase'].str[:-1]"
   ]
  },
  {
   "cell_type": "code",
   "execution_count": 8,
   "id": "0e1e9a0d",
   "metadata": {},
   "outputs": [],
   "source": [
    "en['PhraseLength'] = en.apply(lambda row: len(row['Phrase']), axis = 1)"
   ]
  },
  {
   "cell_type": "code",
   "execution_count": 9,
   "id": "a04cfccb",
   "metadata": {},
   "outputs": [],
   "source": [
    "def word_count(row):\n",
    "    return(len(row['Phrase'].split()))"
   ]
  },
  {
   "cell_type": "code",
   "execution_count": 10,
   "id": "a640ad27",
   "metadata": {},
   "outputs": [],
   "source": [
    "en['WordCount'] = en.apply(lambda row: word_count(row), axis = 1)"
   ]
  },
  {
   "cell_type": "code",
   "execution_count": 11,
   "id": "1a6e81da",
   "metadata": {},
   "outputs": [],
   "source": [
    "en_sub = en[(en['WordCount'] >= 3) & (en['WordCount'] <= 20)]"
   ]
  },
  {
   "cell_type": "code",
   "execution_count": 12,
   "id": "67be9938",
   "metadata": {},
   "outputs": [],
   "source": [
    "def alphanumeric_percent(row):\n",
    "    letters = len([x for x in row['Phrase'] if x.isalpha()])\n",
    "    return(letters/len(row['Phrase'].replace(' ','')))"
   ]
  },
  {
   "cell_type": "code",
   "execution_count": 13,
   "id": "e45a0744",
   "metadata": {},
   "outputs": [
    {
     "name": "stderr",
     "output_type": "stream",
     "text": [
      "/Users/nicholas/anaconda/envs/Backtranslation/lib/python3.6/site-packages/ipykernel_launcher.py:1: SettingWithCopyWarning: \n",
      "A value is trying to be set on a copy of a slice from a DataFrame.\n",
      "Try using .loc[row_indexer,col_indexer] = value instead\n",
      "\n",
      "See the caveats in the documentation: https://pandas.pydata.org/pandas-docs/stable/user_guide/indexing.html#returning-a-view-versus-a-copy\n",
      "  \"\"\"Entry point for launching an IPython kernel.\n"
     ]
    }
   ],
   "source": [
    "en_sub['AlphaNumeric%'] = en_sub.apply(lambda row: alphanumeric_percent(row), axis = 1)"
   ]
  },
  {
   "cell_type": "code",
   "execution_count": 14,
   "id": "1e03fd33",
   "metadata": {},
   "outputs": [],
   "source": [
    "sub2 = en_sub[en_sub['AlphaNumeric%'] > 0.975]"
   ]
  },
  {
   "cell_type": "code",
   "execution_count": 15,
   "id": "5d43a15e",
   "metadata": {},
   "outputs": [],
   "source": [
    "to_translates = []\n",
    "forward_translations = []\n",
    "back_translations = []\n",
    "distances = []\n",
    "counter = 0\n",
    "exceptions = []"
   ]
  },
  {
   "cell_type": "code",
   "execution_count": 16,
   "id": "0f0d5097",
   "metadata": {},
   "outputs": [],
   "source": [
    "sub3 = sub2.iloc[:10000]"
   ]
  },
  {
   "cell_type": "code",
   "execution_count": 17,
   "id": "6e7d8ce6",
   "metadata": {},
   "outputs": [
    {
     "name": "stdout",
     "output_type": "stream",
     "text": [
      "0\n",
      "1000\n",
      "2000\n",
      "3000\n",
      "4000\n",
      "5000\n",
      "6000\n",
      "7000\n",
      "8000\n",
      "9000\n"
     ]
    }
   ],
   "source": [
    "for idx, row in sub3[counter:].iterrows():\n",
    "    if counter % 1000 == 0:\n",
    "        print(counter)\n",
    "    try:\n",
    "        a,b,c,d = measure_backtranslation(row['Phrase'], 'en', 'afrikaans')\n",
    "        to_translates.append(a)\n",
    "        forward_translations.append(b)\n",
    "        back_translations.append(c)\n",
    "        distances.append(d)\n",
    "        counter += 1\n",
    "    except:\n",
    "        exceptions.append(counter)\n",
    "        "
   ]
  },
  {
   "cell_type": "code",
   "execution_count": 18,
   "id": "6478c4db",
   "metadata": {},
   "outputs": [
    {
     "name": "stderr",
     "output_type": "stream",
     "text": [
      "/Users/nicholas/anaconda/envs/Backtranslation/lib/python3.6/site-packages/ipykernel_launcher.py:1: SettingWithCopyWarning: \n",
      "A value is trying to be set on a copy of a slice from a DataFrame.\n",
      "Try using .loc[row_indexer,col_indexer] = value instead\n",
      "\n",
      "See the caveats in the documentation: https://pandas.pydata.org/pandas-docs/stable/user_guide/indexing.html#returning-a-view-versus-a-copy\n",
      "  \"\"\"Entry point for launching an IPython kernel.\n",
      "/Users/nicholas/anaconda/envs/Backtranslation/lib/python3.6/site-packages/ipykernel_launcher.py:2: SettingWithCopyWarning: \n",
      "A value is trying to be set on a copy of a slice from a DataFrame.\n",
      "Try using .loc[row_indexer,col_indexer] = value instead\n",
      "\n",
      "See the caveats in the documentation: https://pandas.pydata.org/pandas-docs/stable/user_guide/indexing.html#returning-a-view-versus-a-copy\n",
      "  \n",
      "/Users/nicholas/anaconda/envs/Backtranslation/lib/python3.6/site-packages/ipykernel_launcher.py:3: SettingWithCopyWarning: \n",
      "A value is trying to be set on a copy of a slice from a DataFrame.\n",
      "Try using .loc[row_indexer,col_indexer] = value instead\n",
      "\n",
      "See the caveats in the documentation: https://pandas.pydata.org/pandas-docs/stable/user_guide/indexing.html#returning-a-view-versus-a-copy\n",
      "  This is separate from the ipykernel package so we can avoid doing imports until\n"
     ]
    }
   ],
   "source": [
    "sub3['ForwardTranslation'] = forward_translations\n",
    "sub3['BackTranslation'] = back_translations\n",
    "sub3['EditDistance'] = distances\n"
   ]
  },
  {
   "cell_type": "code",
   "execution_count": 19,
   "id": "2f0c4430",
   "metadata": {},
   "outputs": [],
   "source": [
    "sub3.to_csv('EnglishAfrikaansBacktranslationResults.csv')\n"
   ]
  },
  {
   "cell_type": "code",
   "execution_count": 20,
   "id": "ff982152",
   "metadata": {},
   "outputs": [
    {
     "data": {
      "text/html": [
       "<div>\n",
       "<style scoped>\n",
       "    .dataframe tbody tr th:only-of-type {\n",
       "        vertical-align: middle;\n",
       "    }\n",
       "\n",
       "    .dataframe tbody tr th {\n",
       "        vertical-align: top;\n",
       "    }\n",
       "\n",
       "    .dataframe thead th {\n",
       "        text-align: right;\n",
       "    }\n",
       "</style>\n",
       "<table border=\"1\" class=\"dataframe\">\n",
       "  <thead>\n",
       "    <tr style=\"text-align: right;\">\n",
       "      <th></th>\n",
       "      <th>Phrase</th>\n",
       "      <th>PhraseLength</th>\n",
       "      <th>WordCount</th>\n",
       "      <th>AlphaNumeric%</th>\n",
       "      <th>ForwardTranslation</th>\n",
       "      <th>BackTranslation</th>\n",
       "      <th>EditDistance</th>\n",
       "    </tr>\n",
       "  </thead>\n",
       "  <tbody>\n",
       "    <tr>\n",
       "      <th>22593</th>\n",
       "      <td>The MIT Press</td>\n",
       "      <td>13</td>\n",
       "      <td>3</td>\n",
       "      <td>1.0</td>\n",
       "      <td>Die MIT Press</td>\n",
       "      <td>The MIT Press</td>\n",
       "      <td>0</td>\n",
       "    </tr>\n",
       "    <tr>\n",
       "      <th>26410</th>\n",
       "      <td>The Cerro Torre</td>\n",
       "      <td>15</td>\n",
       "      <td>3</td>\n",
       "      <td>1.0</td>\n",
       "      <td>Die Cerro Torre</td>\n",
       "      <td>The Cerro Torre</td>\n",
       "      <td>0</td>\n",
       "    </tr>\n",
       "    <tr>\n",
       "      <th>30208</th>\n",
       "      <td>at Rolling Stone</td>\n",
       "      <td>16</td>\n",
       "      <td>3</td>\n",
       "      <td>1.0</td>\n",
       "      <td>by Rolling Stone</td>\n",
       "      <td>by Rolling Stone</td>\n",
       "      <td>2</td>\n",
       "    </tr>\n",
       "    <tr>\n",
       "      <th>32718</th>\n",
       "      <td>at the DCU Guide</td>\n",
       "      <td>16</td>\n",
       "      <td>4</td>\n",
       "      <td>1.0</td>\n",
       "      <td>by die DCU-gids</td>\n",
       "      <td>at the DCU directory</td>\n",
       "      <td>8</td>\n",
       "    </tr>\n",
       "    <tr>\n",
       "      <th>33936</th>\n",
       "      <td>The Movie Archive</td>\n",
       "      <td>17</td>\n",
       "      <td>3</td>\n",
       "      <td>1.0</td>\n",
       "      <td>Die filmargief</td>\n",
       "      <td>The film archive</td>\n",
       "      <td>5</td>\n",
       "    </tr>\n",
       "  </tbody>\n",
       "</table>\n",
       "</div>"
      ],
      "text/plain": [
       "                  Phrase  PhraseLength  WordCount  AlphaNumeric%  \\\n",
       "22593      The MIT Press            13          3            1.0   \n",
       "26410    The Cerro Torre            15          3            1.0   \n",
       "30208   at Rolling Stone            16          3            1.0   \n",
       "32718   at the DCU Guide            16          4            1.0   \n",
       "33936  The Movie Archive            17          3            1.0   \n",
       "\n",
       "      ForwardTranslation       BackTranslation  EditDistance  \n",
       "22593      Die MIT Press         The MIT Press             0  \n",
       "26410    Die Cerro Torre       The Cerro Torre             0  \n",
       "30208   by Rolling Stone      by Rolling Stone             2  \n",
       "32718    by die DCU-gids  at the DCU directory             8  \n",
       "33936     Die filmargief      The film archive             5  "
      ]
     },
     "execution_count": 20,
     "metadata": {},
     "output_type": "execute_result"
    }
   ],
   "source": [
    "sub3.head()"
   ]
  },
  {
   "cell_type": "code",
   "execution_count": 21,
   "id": "0ed4031e",
   "metadata": {},
   "outputs": [
    {
     "name": "stderr",
     "output_type": "stream",
     "text": [
      "/Users/nicholas/anaconda/envs/Backtranslation/lib/python3.6/site-packages/ipykernel_launcher.py:1: SettingWithCopyWarning: \n",
      "A value is trying to be set on a copy of a slice from a DataFrame.\n",
      "Try using .loc[row_indexer,col_indexer] = value instead\n",
      "\n",
      "See the caveats in the documentation: https://pandas.pydata.org/pandas-docs/stable/user_guide/indexing.html#returning-a-view-versus-a-copy\n",
      "  \"\"\"Entry point for launching an IPython kernel.\n"
     ]
    }
   ],
   "source": [
    "sub3['EditDistance%'] = sub3['EditDistance']/sub3['PhraseLength']"
   ]
  },
  {
   "cell_type": "code",
   "execution_count": 28,
   "id": "90ed36f8",
   "metadata": {},
   "outputs": [
    {
     "data": {
      "text/plain": [
       "<AxesSubplot:xlabel='WordCount', ylabel='EditDistance%'>"
      ]
     },
     "execution_count": 28,
     "metadata": {},
     "output_type": "execute_result"
    },
    {
     "data": {
      "image/png": "[encoded data removed]",
      "text/plain": [
       "<Figure size 576x432 with 1 Axes>"
      ]
     },
     "metadata": {
      "needs_background": "light"
     },
     "output_type": "display_data"
    }
   ],
   "source": [
    "fig, ax = plt.subplots(figsize = (8,6))\n",
    "sns.regplot(x = sub3['WordCount'], y = sub3['EditDistance%'])"
   ]
  },
  {
   "cell_type": "code",
   "execution_count": 23,
   "id": "26dc2a70",
   "metadata": {},
   "outputs": [
    {
     "name": "stderr",
     "output_type": "stream",
     "text": [
      "/Users/nicholas/anaconda/envs/Backtranslation/lib/python3.6/site-packages/ipykernel_launcher.py:1: SettingWithCopyWarning: \n",
      "A value is trying to be set on a copy of a slice from a DataFrame.\n",
      "Try using .loc[row_indexer,col_indexer] = value instead\n",
      "\n",
      "See the caveats in the documentation: https://pandas.pydata.org/pandas-docs/stable/user_guide/indexing.html#returning-a-view-versus-a-copy\n",
      "  \"\"\"Entry point for launching an IPython kernel.\n",
      "/Users/nicholas/anaconda/envs/Backtranslation/lib/python3.6/site-packages/ipykernel_launcher.py:4: SettingWithCopyWarning: \n",
      "A value is trying to be set on a copy of a slice from a DataFrame.\n",
      "Try using .loc[row_indexer,col_indexer] = value instead\n",
      "\n",
      "See the caveats in the documentation: https://pandas.pydata.org/pandas-docs/stable/user_guide/indexing.html#returning-a-view-versus-a-copy\n",
      "  after removing the cwd from sys.path.\n"
     ]
    }
   ],
   "source": [
    "sub3['Readability'] = sub3.apply(lambda row: textstat.flesch_reading_ease(row['Phrase']), axis = 1)\n",
    "#The table is an example of values. While the maximum score is 121.22, there is no limit on how low\n",
    "#the score can be. A negative score is valid. Higher score = easier to read\n",
    "sub3['GradeLevel'] = sub3.apply(lambda row: textstat.flesch_kincaid_grade(row['Phrase']), axis = 1)\n",
    "#Returns the Flesch-Kincaid Grade of the given text. This is a grade formula in that a score of 9.3\n",
    "#means that a ninth grader would be able to read the document."
   ]
  },
  {
   "cell_type": "code",
   "execution_count": 24,
   "id": "444d2855",
   "metadata": {},
   "outputs": [
    {
     "data": {
      "text/html": [
       "<div>\n",
       "<style scoped>\n",
       "    .dataframe tbody tr th:only-of-type {\n",
       "        vertical-align: middle;\n",
       "    }\n",
       "\n",
       "    .dataframe tbody tr th {\n",
       "        vertical-align: top;\n",
       "    }\n",
       "\n",
       "    .dataframe thead th {\n",
       "        text-align: right;\n",
       "    }\n",
       "</style>\n",
       "<table border=\"1\" class=\"dataframe\">\n",
       "  <thead>\n",
       "    <tr style=\"text-align: right;\">\n",
       "      <th></th>\n",
       "      <th>WordCount</th>\n",
       "      <th>Phrase</th>\n",
       "      <th>PhraseLength</th>\n",
       "      <th>EditDistance</th>\n",
       "      <th>EditDistance%</th>\n",
       "      <th>Readability</th>\n",
       "      <th>GradeLevel</th>\n",
       "    </tr>\n",
       "  </thead>\n",
       "  <tbody>\n",
       "    <tr>\n",
       "      <th>0</th>\n",
       "      <td>3</td>\n",
       "      <td>30</td>\n",
       "      <td>20.833333</td>\n",
       "      <td>2.300000</td>\n",
       "      <td>0.117577</td>\n",
       "      <td>43.330333</td>\n",
       "      <td>7.943333</td>\n",
       "    </tr>\n",
       "    <tr>\n",
       "      <th>1</th>\n",
       "      <td>4</td>\n",
       "      <td>27</td>\n",
       "      <td>36.185185</td>\n",
       "      <td>13.851852</td>\n",
       "      <td>0.335849</td>\n",
       "      <td>25.742593</td>\n",
       "      <td>10.662963</td>\n",
       "    </tr>\n",
       "    <tr>\n",
       "      <th>2</th>\n",
       "      <td>5</td>\n",
       "      <td>110</td>\n",
       "      <td>44.000000</td>\n",
       "      <td>10.545455</td>\n",
       "      <td>0.237487</td>\n",
       "      <td>6.568364</td>\n",
       "      <td>13.575455</td>\n",
       "    </tr>\n",
       "    <tr>\n",
       "      <th>3</th>\n",
       "      <td>6</td>\n",
       "      <td>472</td>\n",
       "      <td>47.836864</td>\n",
       "      <td>7.171610</td>\n",
       "      <td>0.149612</td>\n",
       "      <td>18.752839</td>\n",
       "      <td>12.149364</td>\n",
       "    </tr>\n",
       "    <tr>\n",
       "      <th>4</th>\n",
       "      <td>7</td>\n",
       "      <td>1592</td>\n",
       "      <td>48.797111</td>\n",
       "      <td>5.697236</td>\n",
       "      <td>0.116606</td>\n",
       "      <td>43.844209</td>\n",
       "      <td>8.884108</td>\n",
       "    </tr>\n",
       "    <tr>\n",
       "      <th>5</th>\n",
       "      <td>8</td>\n",
       "      <td>3019</td>\n",
       "      <td>49.656840</td>\n",
       "      <td>6.111295</td>\n",
       "      <td>0.122974</td>\n",
       "      <td>61.115260</td>\n",
       "      <td>6.730010</td>\n",
       "    </tr>\n",
       "    <tr>\n",
       "      <th>6</th>\n",
       "      <td>9</td>\n",
       "      <td>2967</td>\n",
       "      <td>50.322548</td>\n",
       "      <td>6.067071</td>\n",
       "      <td>0.120489</td>\n",
       "      <td>76.624894</td>\n",
       "      <td>4.810347</td>\n",
       "    </tr>\n",
       "    <tr>\n",
       "      <th>7</th>\n",
       "      <td>10</td>\n",
       "      <td>1475</td>\n",
       "      <td>50.934915</td>\n",
       "      <td>6.434576</td>\n",
       "      <td>0.126248</td>\n",
       "      <td>85.187756</td>\n",
       "      <td>3.876136</td>\n",
       "    </tr>\n",
       "    <tr>\n",
       "      <th>8</th>\n",
       "      <td>11</td>\n",
       "      <td>285</td>\n",
       "      <td>51.442105</td>\n",
       "      <td>5.775439</td>\n",
       "      <td>0.112312</td>\n",
       "      <td>91.845368</td>\n",
       "      <td>3.184211</td>\n",
       "    </tr>\n",
       "    <tr>\n",
       "      <th>9</th>\n",
       "      <td>12</td>\n",
       "      <td>23</td>\n",
       "      <td>52.000000</td>\n",
       "      <td>8.173913</td>\n",
       "      <td>0.157191</td>\n",
       "      <td>100.128696</td>\n",
       "      <td>2.291304</td>\n",
       "    </tr>\n",
       "  </tbody>\n",
       "</table>\n",
       "</div>"
      ],
      "text/plain": [
       "   WordCount  Phrase  PhraseLength  EditDistance  EditDistance%  Readability  \\\n",
       "0          3      30     20.833333      2.300000       0.117577    43.330333   \n",
       "1          4      27     36.185185     13.851852       0.335849    25.742593   \n",
       "2          5     110     44.000000     10.545455       0.237487     6.568364   \n",
       "3          6     472     47.836864      7.171610       0.149612    18.752839   \n",
       "4          7    1592     48.797111      5.697236       0.116606    43.844209   \n",
       "5          8    3019     49.656840      6.111295       0.122974    61.115260   \n",
       "6          9    2967     50.322548      6.067071       0.120489    76.624894   \n",
       "7         10    1475     50.934915      6.434576       0.126248    85.187756   \n",
       "8         11     285     51.442105      5.775439       0.112312    91.845368   \n",
       "9         12      23     52.000000      8.173913       0.157191   100.128696   \n",
       "\n",
       "   GradeLevel  \n",
       "0    7.943333  \n",
       "1   10.662963  \n",
       "2   13.575455  \n",
       "3   12.149364  \n",
       "4    8.884108  \n",
       "5    6.730010  \n",
       "6    4.810347  \n",
       "7    3.876136  \n",
       "8    3.184211  \n",
       "9    2.291304  "
      ]
     },
     "execution_count": 24,
     "metadata": {},
     "output_type": "execute_result"
    }
   ],
   "source": [
    "sub3.groupby(['WordCount'], as_index = False).agg({'Phrase':'count', 'PhraseLength':'mean',\n",
    "                                                   'EditDistance':'mean', 'EditDistance%':'mean',\n",
    "                                                   'Readability':'mean', 'GradeLevel':'mean'})"
   ]
  },
  {
   "cell_type": "code",
   "execution_count": 29,
   "id": "f64fe4d7",
   "metadata": {},
   "outputs": [
    {
     "data": {
      "text/plain": [
       "Text(0.5, 1.0, 'Phrase Grade Level vs. Edit Distance as % of Phrase Length')"
      ]
     },
     "execution_count": 29,
     "metadata": {},
     "output_type": "execute_result"
    },
    {
     "data": {
      "image/png": "[encoded data removed]",
      "text/plain": [
       "<Figure size 576x432 with 1 Axes>"
      ]
     },
     "metadata": {
      "needs_background": "light"
     },
     "output_type": "display_data"
    }
   ],
   "source": [
    "fig, ax = plt.subplots(figsize = (8,6))\n",
    "sns.regplot(x = sub3['GradeLevel'], y = sub3['EditDistance%'])\n",
    "plt.title('Phrase Grade Level vs. Edit Distance as % of Phrase Length')"
   ]
  },
  {
   "cell_type": "code",
   "execution_count": 30,
   "id": "c06dc907",
   "metadata": {},
   "outputs": [
    {
     "data": {
      "text/plain": [
       "Text(0.5, 1.0, 'Phrase Readability vs. Edit Distance as % of Phrase Length')"
      ]
     },
     "execution_count": 30,
     "metadata": {},
     "output_type": "execute_result"
    },
    {
     "data": {
      "image/png": "[encoded data removed]",
      "text/plain": [
       "<Figure size 576x432 with 1 Axes>"
      ]
     },
     "metadata": {
      "needs_background": "light"
     },
     "output_type": "display_data"
    }
   ],
   "source": [
    "fig, ax = plt.subplots(figsize = (8,6))\n",
    "sns.regplot(x = sub3['Readability'], y = sub3['EditDistance%'])\n",
    "plt.title('Phrase Readability vs. Edit Distance as % of Phrase Length')"
   ]
  },
  {
   "cell_type": "code",
   "execution_count": 31,
   "id": "75ebfffc",
   "metadata": {},
   "outputs": [
    {
     "name": "stderr",
     "output_type": "stream",
     "text": [
      "/Users/nicholas/anaconda/envs/Backtranslation/lib/python3.6/site-packages/ipykernel_launcher.py:6: SettingWithCopyWarning: \n",
      "A value is trying to be set on a copy of a slice from a DataFrame.\n",
      "Try using .loc[row_indexer,col_indexer] = value instead\n",
      "\n",
      "See the caveats in the documentation: https://pandas.pydata.org/pandas-docs/stable/user_guide/indexing.html#returning-a-view-versus-a-copy\n",
      "  \n"
     ]
    }
   ],
   "source": [
    "sub3['ReadabilityBucket'] = np.where(sub3['Readability'] < 0, '< 0',\n",
    "                            np.where(sub3['Readability'] < 20, '0 - 20',\n",
    "                            np.where(sub3['Readability'] < 40, '20 - 40',\n",
    "                            np.where(sub3['Readability'] < 60, '40 - 60',\n",
    "                            np.where(sub3['Readability'] < 80, '60 - 80',\n",
    "                            np.where(sub3['Readability'] < 100, '80 - 100', '100+'))))))"
   ]
  },
  {
   "cell_type": "code",
   "execution_count": 32,
   "id": "2d891730",
   "metadata": {},
   "outputs": [
    {
     "data": {
      "text/html": [
       "<div>\n",
       "<style scoped>\n",
       "    .dataframe tbody tr th:only-of-type {\n",
       "        vertical-align: middle;\n",
       "    }\n",
       "\n",
       "    .dataframe tbody tr th {\n",
       "        vertical-align: top;\n",
       "    }\n",
       "\n",
       "    .dataframe thead th {\n",
       "        text-align: right;\n",
       "    }\n",
       "</style>\n",
       "<table border=\"1\" class=\"dataframe\">\n",
       "  <thead>\n",
       "    <tr style=\"text-align: right;\">\n",
       "      <th></th>\n",
       "      <th>ReadabilityBucket</th>\n",
       "      <th>Phrase</th>\n",
       "      <th>WordCount</th>\n",
       "      <th>PhraseLength</th>\n",
       "      <th>GradeLevel</th>\n",
       "      <th>EditDistance</th>\n",
       "      <th>EditDistance%</th>\n",
       "    </tr>\n",
       "  </thead>\n",
       "  <tbody>\n",
       "    <tr>\n",
       "      <th>0</th>\n",
       "      <td>0 - 20</td>\n",
       "      <td>294</td>\n",
       "      <td>6.180272</td>\n",
       "      <td>48.214286</td>\n",
       "      <td>13.487755</td>\n",
       "      <td>7.064626</td>\n",
       "      <td>0.146025</td>\n",
       "    </tr>\n",
       "    <tr>\n",
       "      <th>1</th>\n",
       "      <td>100+</td>\n",
       "      <td>422</td>\n",
       "      <td>9.637441</td>\n",
       "      <td>49.966825</td>\n",
       "      <td>0.969431</td>\n",
       "      <td>6.393365</td>\n",
       "      <td>0.129476</td>\n",
       "    </tr>\n",
       "    <tr>\n",
       "      <th>2</th>\n",
       "      <td>20 - 40</td>\n",
       "      <td>1457</td>\n",
       "      <td>7.269732</td>\n",
       "      <td>49.208648</td>\n",
       "      <td>10.420728</td>\n",
       "      <td>5.727522</td>\n",
       "      <td>0.116399</td>\n",
       "    </tr>\n",
       "    <tr>\n",
       "      <th>3</th>\n",
       "      <td>40 - 60</td>\n",
       "      <td>1425</td>\n",
       "      <td>7.915789</td>\n",
       "      <td>49.430877</td>\n",
       "      <td>8.197333</td>\n",
       "      <td>6.076491</td>\n",
       "      <td>0.122973</td>\n",
       "    </tr>\n",
       "    <tr>\n",
       "      <th>4</th>\n",
       "      <td>60 - 80</td>\n",
       "      <td>3646</td>\n",
       "      <td>8.647559</td>\n",
       "      <td>49.984366</td>\n",
       "      <td>5.617883</td>\n",
       "      <td>6.234229</td>\n",
       "      <td>0.124724</td>\n",
       "    </tr>\n",
       "    <tr>\n",
       "      <th>5</th>\n",
       "      <td>80 - 100</td>\n",
       "      <td>2576</td>\n",
       "      <td>9.104037</td>\n",
       "      <td>49.980978</td>\n",
       "      <td>3.190023</td>\n",
       "      <td>6.219332</td>\n",
       "      <td>0.124585</td>\n",
       "    </tr>\n",
       "    <tr>\n",
       "      <th>6</th>\n",
       "      <td>&lt; 0</td>\n",
       "      <td>180</td>\n",
       "      <td>5.572222</td>\n",
       "      <td>47.344444</td>\n",
       "      <td>17.923333</td>\n",
       "      <td>7.244444</td>\n",
       "      <td>0.152701</td>\n",
       "    </tr>\n",
       "  </tbody>\n",
       "</table>\n",
       "</div>"
      ],
      "text/plain": [
       "  ReadabilityBucket  Phrase  WordCount  PhraseLength  GradeLevel  \\\n",
       "0            0 - 20     294   6.180272     48.214286   13.487755   \n",
       "1              100+     422   9.637441     49.966825    0.969431   \n",
       "2           20 - 40    1457   7.269732     49.208648   10.420728   \n",
       "3           40 - 60    1425   7.915789     49.430877    8.197333   \n",
       "4           60 - 80    3646   8.647559     49.984366    5.617883   \n",
       "5          80 - 100    2576   9.104037     49.980978    3.190023   \n",
       "6               < 0     180   5.572222     47.344444   17.923333   \n",
       "\n",
       "   EditDistance  EditDistance%  \n",
       "0      7.064626       0.146025  \n",
       "1      6.393365       0.129476  \n",
       "2      5.727522       0.116399  \n",
       "3      6.076491       0.122973  \n",
       "4      6.234229       0.124724  \n",
       "5      6.219332       0.124585  \n",
       "6      7.244444       0.152701  "
      ]
     },
     "execution_count": 32,
     "metadata": {},
     "output_type": "execute_result"
    }
   ],
   "source": [
    "sub3.groupby(['ReadabilityBucket'], as_index = False).agg({'Phrase':'count','WordCount':'mean',\n",
    "                                                           'PhraseLength':'mean', 'GradeLevel':'mean',\n",
    "                                                           'EditDistance':'mean', 'EditDistance%':'mean'})"
   ]
  },
  {
   "cell_type": "code",
   "execution_count": 35,
   "id": "a5c58a6f",
   "metadata": {},
   "outputs": [
    {
     "data": {
      "text/plain": [
       "0.12455599406290903"
      ]
     },
     "execution_count": 35,
     "metadata": {},
     "output_type": "execute_result"
    }
   ],
   "source": [
    "sub3['EditDistance%'].mean()"
   ]
  },
  {
   "cell_type": "code",
   "execution_count": 36,
   "id": "162d12aa",
   "metadata": {},
   "outputs": [
    {
     "data": {
      "text/plain": [
       "0.155485048367405"
      ]
     },
     "execution_count": 36,
     "metadata": {},
     "output_type": "execute_result"
    }
   ],
   "source": [
    "sub3['EditDistance%'].std()"
   ]
  },
  {
   "cell_type": "code",
   "execution_count": 37,
   "id": "605a00bc",
   "metadata": {},
   "outputs": [
    {
     "name": "stderr",
     "output_type": "stream",
     "text": [
      "/Users/nicholas/anaconda/envs/Backtranslation/lib/python3.6/site-packages/ipykernel_launcher.py:1: SettingWithCopyWarning: \n",
      "A value is trying to be set on a copy of a slice from a DataFrame.\n",
      "Try using .loc[row_indexer,col_indexer] = value instead\n",
      "\n",
      "See the caveats in the documentation: https://pandas.pydata.org/pandas-docs/stable/user_guide/indexing.html#returning-a-view-versus-a-copy\n",
      "  \"\"\"Entry point for launching an IPython kernel.\n"
     ]
    },
    {
     "data": {
      "text/plain": [
       "3659"
      ]
     },
     "execution_count": 37,
     "metadata": {},
     "output_type": "execute_result"
    }
   ],
   "source": [
    "sub3['NoError'] = np.where(sub3['EditDistance'] == 0, 1, 0)\n",
    "sub3['NoError'].sum()"
   ]
  },
  {
   "cell_type": "code",
   "execution_count": 43,
   "id": "3e9605a9",
   "metadata": {},
   "outputs": [],
   "source": [
    "perfects = sub3[sub3['NoError'] == 1]\n",
    "imperfects = sub3[sub3['NoError'] == 0]"
   ]
  },
  {
   "cell_type": "code",
   "execution_count": 39,
   "id": "ff861157",
   "metadata": {},
   "outputs": [
    {
     "data": {
      "text/plain": [
       "8.303088275485106"
      ]
     },
     "execution_count": 39,
     "metadata": {},
     "output_type": "execute_result"
    }
   ],
   "source": [
    "perfects['WordCount'].mean()"
   ]
  },
  {
   "cell_type": "code",
   "execution_count": 40,
   "id": "0f1553e2",
   "metadata": {},
   "outputs": [
    {
     "data": {
      "text/plain": [
       "6.436212079803226"
      ]
     },
     "execution_count": 40,
     "metadata": {},
     "output_type": "execute_result"
    }
   ],
   "source": [
    "perfects['GradeLevel'].mean()"
   ]
  },
  {
   "cell_type": "code",
   "execution_count": 42,
   "id": "d542a0e2",
   "metadata": {},
   "outputs": [
    {
     "data": {
      "text/plain": [
       "63.75304181470347"
      ]
     },
     "execution_count": 42,
     "metadata": {},
     "output_type": "execute_result"
    }
   ],
   "source": [
    "perfects['Readability'].mean()"
   ]
  },
  {
   "cell_type": "code",
   "execution_count": 44,
   "id": "14b463a6",
   "metadata": {},
   "outputs": [
    {
     "data": {
      "text/plain": [
       "8.414918782526415"
      ]
     },
     "execution_count": 44,
     "metadata": {},
     "output_type": "execute_result"
    }
   ],
   "source": [
    "imperfects['WordCount'].mean()"
   ]
  },
  {
   "cell_type": "code",
   "execution_count": 45,
   "id": "8926255a",
   "metadata": {},
   "outputs": [
    {
     "data": {
      "text/plain": [
       "6.247453083109919"
      ]
     },
     "execution_count": 45,
     "metadata": {},
     "output_type": "execute_result"
    }
   ],
   "source": [
    "imperfects['GradeLevel'].mean()"
   ]
  },
  {
   "cell_type": "code",
   "execution_count": 46,
   "id": "19597046",
   "metadata": {},
   "outputs": [
    {
     "data": {
      "text/plain": [
       "65.302046995742"
      ]
     },
     "execution_count": 46,
     "metadata": {},
     "output_type": "execute_result"
    }
   ],
   "source": [
    "imperfects['Readability'].mean()"
   ]
  },
  {
   "cell_type": "code",
   "execution_count": 47,
   "id": "2e94d7f2",
   "metadata": {},
   "outputs": [
    {
     "name": "stderr",
     "output_type": "stream",
     "text": [
      "/Users/nicholas/anaconda/envs/Backtranslation/lib/python3.6/site-packages/ipykernel_launcher.py:1: SettingWithCopyWarning: \n",
      "A value is trying to be set on a copy of a slice from a DataFrame.\n",
      "Try using .loc[row_indexer,col_indexer] = value instead\n",
      "\n",
      "See the caveats in the documentation: https://pandas.pydata.org/pandas-docs/stable/user_guide/indexing.html#returning-a-view-versus-a-copy\n",
      "  \"\"\"Entry point for launching an IPython kernel.\n"
     ]
    }
   ],
   "source": [
    "sub3['worst_20'] = np.where(sub3['EditDistance%'] >= np.percentile(sub3['EditDistance%'],80), 1, 0)\n",
    "worst_20 = sub3[sub3['worst_20'] == 1]"
   ]
  },
  {
   "cell_type": "code",
   "execution_count": 48,
   "id": "ee280420",
   "metadata": {},
   "outputs": [
    {
     "data": {
      "text/plain": [
       "2018"
      ]
     },
     "execution_count": 48,
     "metadata": {},
     "output_type": "execute_result"
    }
   ],
   "source": [
    "len(worst_20)"
   ]
  },
  {
   "cell_type": "code",
   "execution_count": 49,
   "id": "4a1c6fad",
   "metadata": {},
   "outputs": [
    {
     "data": {
      "text/plain": [
       "8.298315163528246"
      ]
     },
     "execution_count": 49,
     "metadata": {},
     "output_type": "execute_result"
    }
   ],
   "source": [
    "worst_20['WordCount'].mean()"
   ]
  },
  {
   "cell_type": "code",
   "execution_count": 50,
   "id": "6c9b5507",
   "metadata": {},
   "outputs": [
    {
     "data": {
      "text/plain": [
       "64.0614667988107"
      ]
     },
     "execution_count": 50,
     "metadata": {},
     "output_type": "execute_result"
    }
   ],
   "source": [
    "worst_20['Readability'].mean()"
   ]
  },
  {
   "cell_type": "code",
   "execution_count": 51,
   "id": "37d6bd50",
   "metadata": {
    "scrolled": true
   },
   "outputs": [
    {
     "data": {
      "text/plain": [
       "6.390287413280476"
      ]
     },
     "execution_count": 51,
     "metadata": {},
     "output_type": "execute_result"
    }
   ],
   "source": [
    "worst_20['GradeLevel'].mean()"
   ]
  },
  {
   "cell_type": "code",
   "execution_count": 52,
   "id": "47ad8719",
   "metadata": {},
   "outputs": [],
   "source": [
    "perfect_idxs = pd.DataFrame(data = {'idx':list(perfects.index)})\n",
    "perfect_idxs.to_csv('AfrikaansPerfectIdxs.csv')"
   ]
  },
  {
   "cell_type": "code",
   "execution_count": 54,
   "id": "9a58338e",
   "metadata": {},
   "outputs": [],
   "source": [
    "def words_preserved(row):\n",
    "    preserved = []\n",
    "    for word in row['Phrase'].split(' '):\n",
    "        if word in row['BackTranslation']:\n",
    "            preserved.append(word)\n",
    "    return(preserved)"
   ]
  },
  {
   "cell_type": "code",
   "execution_count": 55,
   "id": "2ea878a0",
   "metadata": {},
   "outputs": [
    {
     "name": "stderr",
     "output_type": "stream",
     "text": [
      "/Users/nicholas/anaconda/envs/Backtranslation/lib/python3.6/site-packages/ipykernel_launcher.py:1: SettingWithCopyWarning: \n",
      "A value is trying to be set on a copy of a slice from a DataFrame.\n",
      "Try using .loc[row_indexer,col_indexer] = value instead\n",
      "\n",
      "See the caveats in the documentation: https://pandas.pydata.org/pandas-docs/stable/user_guide/indexing.html#returning-a-view-versus-a-copy\n",
      "  \"\"\"Entry point for launching an IPython kernel.\n",
      "/Users/nicholas/anaconda/envs/Backtranslation/lib/python3.6/site-packages/ipykernel_launcher.py:2: SettingWithCopyWarning: \n",
      "A value is trying to be set on a copy of a slice from a DataFrame.\n",
      "Try using .loc[row_indexer,col_indexer] = value instead\n",
      "\n",
      "See the caveats in the documentation: https://pandas.pydata.org/pandas-docs/stable/user_guide/indexing.html#returning-a-view-versus-a-copy\n",
      "  \n",
      "/Users/nicholas/anaconda/envs/Backtranslation/lib/python3.6/site-packages/ipykernel_launcher.py:3: SettingWithCopyWarning: \n",
      "A value is trying to be set on a copy of a slice from a DataFrame.\n",
      "Try using .loc[row_indexer,col_indexer] = value instead\n",
      "\n",
      "See the caveats in the documentation: https://pandas.pydata.org/pandas-docs/stable/user_guide/indexing.html#returning-a-view-versus-a-copy\n",
      "  This is separate from the ipykernel package so we can avoid doing imports until\n"
     ]
    }
   ],
   "source": [
    "sub3['WordPreserved'] = sub3.apply(lambda row: words_preserved(row), axis = 1)\n",
    "sub3['NumWordsPreserved'] = sub3['WordPreserved'].str.len()\n",
    "sub3['PreservedWord%'] = sub3['NumWordsPreserved']/sub3['WordCount']"
   ]
  },
  {
   "cell_type": "code",
   "execution_count": 56,
   "id": "8f9e1bd8",
   "metadata": {},
   "outputs": [
    {
     "data": {
      "text/plain": [
       "0.8642961219336219"
      ]
     },
     "execution_count": 56,
     "metadata": {},
     "output_type": "execute_result"
    }
   ],
   "source": [
    "sub3['PreservedWord%'].mean()"
   ]
  },
  {
   "cell_type": "code",
   "execution_count": null,
   "id": "34679f22",
   "metadata": {},
   "outputs": [],
   "source": []
  }
 ],
 "metadata": {
  "kernelspec": {
   "display_name": "Python 3",
   "language": "python",
   "name": "python3"
  },
  "language_info": {
   "codemirror_mode": {
    "name": "ipython",
    "version": 3
   },
   "file_extension": ".py",
   "mimetype": "text/x-python",
   "name": "python",
   "nbconvert_exporter": "python",
   "pygments_lexer": "ipython3",
   "version": "3.6.13"
  }
 },
 "nbformat": 4,
 "nbformat_minor": 5
}
